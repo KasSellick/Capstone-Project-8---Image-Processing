{
  "nbformat": 4,
  "nbformat_minor": 0,
  "metadata": {
    "colab": {
      "provenance": [],
      "toc_visible": true
    },
    "language_info": {
      "codemirror_mode": {
        "name": "ipython",
        "version": 3
      },
      "file_extension": ".py",
      "mimetype": "text/x-python",
      "name": "python",
      "nbconvert_exporter": "python",
      "pygments_lexer": "ipython3",
      "version": "3.6.8"
    },
    "kernelspec": {
      "display_name": "Python 3",
      "language": "python",
      "name": "python3"
    }
  },
  "cells": [
    {
      "cell_type": "markdown",
      "source": [
        "## Image recognition classifier: Determine house numbers displayed in images from Google Street using the Random Forrest Classifier."
      ],
      "metadata": {
        "id": "742XWCofots9"
      }
    },
    {
      "cell_type": "markdown",
      "source": [
        "### Introduction:\n",
        "\n",
        "This notebook determines the numbers displayed in images using the Random Forest Classifier. The data is imported and loaded from SKLearn. After preprocessing, the RandomForestClassifier is trained to determine numbers in images. The model is trained using various estimator values and the optimal estimator value is found. A confusion matrix is plotted from which we can see which numbers were most problematic to identify. The metrics of the model are also determined."
      ],
      "metadata": {
        "id": "ED_WpJeWouOL"
      }
    },
    {
      "cell_type": "markdown",
      "source": [
        "### Load and View Data:"
      ],
      "metadata": {
        "id": "jvy05zLUttnI"
      }
    },
    {
      "cell_type": "code",
      "metadata": {
        "id": "4r6opegAv77K"
      },
      "source": [
        "# Import libraries\n",
        "import numpy as np\n",
        "import seaborn as sns\n",
        "import matplotlib.pyplot as plt\n",
        "from sklearn.model_selection import train_test_split, GridSearchCV\n",
        "from sklearn.ensemble import RandomForestClassifier\n",
        "from sklearn.metrics import confusion_matrix, accuracy_score, precision_score, recall_score, f1_score\n",
        "from sklearn.datasets import load_digits\n",
        "\n",
        "digits = load_digits()"
      ],
      "execution_count": 20,
      "outputs": []
    },
    {
      "cell_type": "markdown",
      "source": [
        "#### Get the image data shape and number of labels."
      ],
      "metadata": {
        "id": "I0eUoToGXOEb"
      }
    },
    {
      "cell_type": "code",
      "metadata": {
        "id": "2AQQkGIpv77b",
        "outputId": "25fa7fa3-a12b-46ea-9624-24559aa7318b",
        "colab": {
          "base_uri": "https://localhost:8080/"
        }
      },
      "source": [
        "# Print to show there are 1797 images (8 by 8 images for a dimensionality of 64)\n",
        "print(\"Image Data Shape\" , digits.data.shape)\n",
        "\n",
        "# Print to show there are 1797 labels (integers from 0-9)\n",
        "print(\"Label Data Shape\", digits.target.shape)"
      ],
      "execution_count": 21,
      "outputs": [
        {
          "output_type": "stream",
          "name": "stdout",
          "text": [
            "Image Data Shape (1797, 64)\n",
            "Label Data Shape (1797,)\n"
          ]
        }
      ]
    },
    {
      "cell_type": "markdown",
      "source": [
        "#### Plot the first 5 samples of the digits dataset."
      ],
      "metadata": {
        "id": "eOs8Mg4jXGuK"
      }
    },
    {
      "cell_type": "code",
      "metadata": {
        "id": "XdGEdpC4v771",
        "outputId": "97604a32-4500-4740-fcfa-19261e851432",
        "colab": {
          "base_uri": "https://localhost:8080/",
          "height": 218
        }
      },
      "source": [
        "plt.figure(figsize=(20,4))\n",
        "for index, (image, label) in enumerate(zip(digits.data[0:5], digits.target[0:5])):\n",
        "    plt.subplot(1, 5, index + 1)\n",
        "    plt.imshow(np.reshape(image, (8,8)), cmap=plt.cm.gray)\n",
        "    plt.title('Training: %i\\n' % label, fontsize = 20)"
      ],
      "execution_count": 22,
      "outputs": [
        {
          "output_type": "display_data",
          "data": {
            "text/plain": [
              "<Figure size 2000x400 with 5 Axes>"
            ],
            "image/png": "[encoded data removed]"
          },
          "metadata": {}
        }
      ]
    },
    {
      "cell_type": "markdown",
      "source": [
        "### Split the Data:"
      ],
      "metadata": {
        "id": "bF7fiK3lt9am"
      }
    },
    {
      "cell_type": "code",
      "source": [
        "# Get the independent and dependent variables\n",
        "# Convert labels to string values\n",
        "# Reference (See Section 4):\n",
        "# https://medium.com/analytics-vidhya/hello-world-of-computer-vision-mnist-handwritten-digit-classification-a5c28f6276e1\n",
        "X, y = digits.data.astype(np.uint8), digits.target.astype(np.uint8)\n",
        "\n",
        "# Split the data into training and test sets\n",
        "X_train, X_test, y_train, y_test = train_test_split(X, y, test_size=0.2, random_state=42)\n",
        "\n",
        "# We train the model on a large subset of the data known as the train set.\n",
        "# The model is then tested on the remaining data, known as the test set,\n",
        "# in order to evaluate the model's performance on known data that the model\n",
        "# has not seen.\n",
        "# The predictions of the model on the test set are compared to that of the known\n",
        "# values of the test set in order to determine how well the model performs."
      ],
      "metadata": {
        "id": "DJvydU-EPhYS"
      },
      "execution_count": 23,
      "outputs": []
    },
    {
      "cell_type": "markdown",
      "source": [
        "### Train the Model:"
      ],
      "metadata": {
        "id": "wkFd0x1BuSEU"
      }
    },
    {
      "cell_type": "markdown",
      "source": [
        "We use the RandomForestClassifier method"
      ],
      "metadata": {
        "id": "Jk0ud0xSuVo0"
      }
    },
    {
      "cell_type": "code",
      "source": [
        "# Create a RandomForestClassifier\n",
        "clf = RandomForestClassifier(random_state=42)"
      ],
      "metadata": {
        "id": "A2anJnGqufhT"
      },
      "execution_count": 24,
      "outputs": []
    },
    {
      "cell_type": "markdown",
      "source": [
        "We are going to tune the number of estimators. This is because Random Forests are less prone to overfitting, so we can choose a higher number of trees for better performance. We tune the parameter using GridSearchCV."
      ],
      "metadata": {
        "id": "ma5tI2Ncuimu"
      }
    },
    {
      "cell_type": "code",
      "source": [
        "# Reference for parameter tuning:\n",
        "# https://www.analyticsvidhya.com/blog/2021/06/tune-hyperparameters-with-gridsearchcv/\n",
        "\n",
        "# Define the parameter grid for GridSearchCV\n",
        "n_estimators = list(np.linspace(50, 300, 11, dtype=int))\n",
        "param_grid = {'n_estimators': n_estimators}\n",
        "\n",
        "# Create GridSearchCV object\n",
        "grid_search = GridSearchCV(clf, param_grid, cv=5, scoring='accuracy')\n",
        "\n",
        "# Fit the model with the training data\n",
        "grid_search.fit(X_train, y_train)\n",
        "\n",
        "# Get the best parameters and the corresponding model\n",
        "best_params = grid_search.best_params_\n",
        "best_model = grid_search.best_estimator_\n",
        "\n",
        "# Print the best parameters found by GridSearchCV\n",
        "print(\"\\nBest Parameters:\", best_params)"
      ],
      "metadata": {
        "colab": {
          "base_uri": "https://localhost:8080/"
        },
        "id": "3rSTSnGwuiIe",
        "outputId": "944f1589-57ad-4571-dc6e-f2460a8f8f1d"
      },
      "execution_count": 25,
      "outputs": [
        {
          "output_type": "stream",
          "name": "stdout",
          "text": [
            "\n",
            "Best Parameters: {'n_estimators': 200}\n"
          ]
        }
      ]
    },
    {
      "cell_type": "markdown",
      "source": [
        "Using GridSearchCV we find the best parameter value for the number of estimators is 200. We will thus use the model associated with this parameter value when testing our model on the test data."
      ],
      "metadata": {
        "id": "2jzvlLF75qH_"
      }
    },
    {
      "cell_type": "markdown",
      "source": [
        "### Get Predictions and Matrics:"
      ],
      "metadata": {
        "id": "-LDF_NcCzTUa"
      }
    },
    {
      "cell_type": "markdown",
      "source": [
        "#### Predict on the test set."
      ],
      "metadata": {
        "id": "6-KBwdhCyXZQ"
      }
    },
    {
      "cell_type": "code",
      "source": [
        "# Make predictions on the test set using the best model\n",
        "y_pred = best_model.predict(X_test)"
      ],
      "metadata": {
        "id": "fXaDxH4fyD_6"
      },
      "execution_count": 26,
      "outputs": []
    },
    {
      "cell_type": "markdown",
      "source": [
        "#### Create a confusion matrix of the predictions."
      ],
      "metadata": {
        "id": "Qx00bbyryeNq"
      }
    },
    {
      "cell_type": "code",
      "source": [
        "# Get the confusion matrix\n",
        "cm = confusion_matrix(y_test, y_pred)\n",
        "\n",
        "# Create a heatmap of the confusion matrix\n",
        "plt.figure(figsize=(8, 6))\n",
        "sns.heatmap(cm, annot=True, fmt='d', cmap='Blues', xticklabels=digits.target_names, yticklabels=digits.target_names)\n",
        "plt.title('Confusion Matrix')\n",
        "plt.xlabel('Predicted')\n",
        "plt.ylabel('Actual')\n",
        "plt.show()"
      ],
      "metadata": {
        "colab": {
          "base_uri": "https://localhost:8080/",
          "height": 564
        },
        "id": "wCY-AspluMbR",
        "outputId": "6b0e848d-cbe3-49d5-a8de-5a3959664efb"
      },
      "execution_count": 27,
      "outputs": [
        {
          "output_type": "display_data",
          "data": {
            "text/plain": [
              "<Figure size 800x600 with 2 Axes>"
            ],
            "image/png": "[encoded data removed]"
          },
          "metadata": {}
        }
      ]
    },
    {
      "cell_type": "markdown",
      "source": [
        "From the confusion matrix we can see that the model did very well overall. The numbers 0, 6 and 7 were each predicted wrong only once each. Numbers 3, 5, 8 and 9 were each only predicted wrong twice and numbers 1, 2 and 4 were predicted correctly each time."
      ],
      "metadata": {
        "id": "9eqmXsnozbtg"
      }
    },
    {
      "cell_type": "markdown",
      "source": [
        "#### Find and print the metrics of the model."
      ],
      "metadata": {
        "id": "npbbYlfszKOc"
      }
    },
    {
      "cell_type": "code",
      "source": [
        "# Find accuracy, precision, recall, and f1-score\n",
        "accuracy = accuracy_score(y_test, y_pred)\n",
        "precision = precision_score(y_test, y_pred, average='macro')\n",
        "recall = recall_score(y_test, y_pred, average='macro')\n",
        "f1 = f1_score(y_test, y_pred, average='macro')\n",
        "\n",
        "# Print metrics\n",
        "print(\"\\nAccuracy:\", accuracy)\n",
        "print(\"Precision:\", precision)\n",
        "print(\"Recall:\", recall)\n",
        "print(\"F1-Score:\", f1)"
      ],
      "metadata": {
        "colab": {
          "base_uri": "https://localhost:8080/"
        },
        "id": "v59SBd8wzIIY",
        "outputId": "c8d18535-730e-4a74-8e86-cd8d8dbdff55"
      },
      "execution_count": 28,
      "outputs": [
        {
          "output_type": "stream",
          "name": "stdout",
          "text": [
            "\n",
            "Accuracy: 0.9694444444444444\n",
            "Precision: 0.9707090785690651\n",
            "Recall: 0.9693670388851865\n",
            "F1-Score: 0.9697614677667822\n"
          ]
        }
      ]
    },
    {
      "cell_type": "markdown",
      "source": [
        "Overall the model performs very well with all metrics at around 0.97."
      ],
      "metadata": {
        "id": "ZHg-XOEd4FXf"
      }
    }
  ]
}